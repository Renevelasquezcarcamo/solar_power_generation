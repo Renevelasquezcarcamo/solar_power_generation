{
 "cells": [
  {
   "cell_type": "markdown",
   "source": [
    "# Solar Power Prediction\n",
    "El presente documento tiene por objetivo realizar un estudio sobre la predicción de la producción de una planta solar en India. Los datos corresponden a 34 días. Intentaremos responder la siguientes preguntas:\n",
    "- ¿Podemos predecir la generación eléctrica para los próximos días?\n",
    "- ¿Podemos identificar la necesidad de limpieza del panel?\n",
    "- ¿Podemos identificar alguna falla o baja en el rendimiento de los paneles?\n",
    "\n",
    "Antes de partir con el análisis, importaremos los módulos necesarios. Pandas, Seabron y Sckit Learn serán nuestros paquetes principales."
   ],
   "metadata": {
    "collapsed": false,
    "pycharm": {
     "name": "#%% md\n"
    }
   }
  },
  {
   "cell_type": "code",
   "execution_count": 1,
   "metadata": {
    "collapsed": true,
    "pycharm": {
     "name": "#%%\n"
    }
   },
   "outputs": [],
   "source": [
    "import pandas as pd\n",
    "import numpy as np\n",
    "import seaborn as sns"
   ]
  },
  {
   "cell_type": "markdown",
   "source": [
    "A continuación se hará la lectura del archivo que contiene la información de la planta de generación. En ella encontraremos las siguientes columnas:\n",
    "- **DATE_TIME**: Dato temporal, indica el tiempo en el cual se realizó la medición.\n",
    "- **PLANT_ID**: La identificación de la planta, por ende, en todo el archivo es igual.\n",
    "- **SOURCE_KEY**: ID del inversor.\n",
    "- **DC_POWER**: Cantidad de corriente directa generada en un periodo de 15 minutos, medida en kW.\n",
    "- **AC_POWER**: Cantidad de corriente alterna generada en un periodo de 15 minutos, medida en kW.\n",
    "- **DAILY_YIELD**: Cantidad de energía diaria acumulada hasta ese punto en el tiempo.\n",
    "- **TOTAL_YIELD**: Cantidad de energía acumulada en ese inversor, hasta ese punto en el tiempo."
   ],
   "metadata": {
    "collapsed": false,
    "pycharm": {
     "name": "#%% md\n"
    }
   }
  },
  {
   "cell_type": "code",
   "execution_count": 4,
   "outputs": [
    {
     "data": {
      "text/plain": "          DATE_TIME  PLANT_ID       SOURCE_KEY  DC_POWER  AC_POWER  \\\n0  15-05-2020 00:00   4135001  1BY6WEcLGh8j5v7       0.0       0.0   \n1  15-05-2020 00:00   4135001  1IF53ai7Xc0U56Y       0.0       0.0   \n2  15-05-2020 00:00   4135001  3PZuoBAID5Wc2HD       0.0       0.0   \n3  15-05-2020 00:00   4135001  7JYdWkrLSPkdwr4       0.0       0.0   \n4  15-05-2020 00:00   4135001  McdE0feGgRqW7Ca       0.0       0.0   \n\n   DAILY_YIELD  TOTAL_YIELD  \n0          0.0    6259559.0  \n1          0.0    6183645.0  \n2          0.0    6987759.0  \n3          0.0    7602960.0  \n4          0.0    7158964.0  ",
      "text/html": "<div>\n<style scoped>\n    .dataframe tbody tr th:only-of-type {\n        vertical-align: middle;\n    }\n\n    .dataframe tbody tr th {\n        vertical-align: top;\n    }\n\n    .dataframe thead th {\n        text-align: right;\n    }\n</style>\n<table border=\"1\" class=\"dataframe\">\n  <thead>\n    <tr style=\"text-align: right;\">\n      <th></th>\n      <th>DATE_TIME</th>\n      <th>PLANT_ID</th>\n      <th>SOURCE_KEY</th>\n      <th>DC_POWER</th>\n      <th>AC_POWER</th>\n      <th>DAILY_YIELD</th>\n      <th>TOTAL_YIELD</th>\n    </tr>\n  </thead>\n  <tbody>\n    <tr>\n      <th>0</th>\n      <td>15-05-2020 00:00</td>\n      <td>4135001</td>\n      <td>1BY6WEcLGh8j5v7</td>\n      <td>0.0</td>\n      <td>0.0</td>\n      <td>0.0</td>\n      <td>6259559.0</td>\n    </tr>\n    <tr>\n      <th>1</th>\n      <td>15-05-2020 00:00</td>\n      <td>4135001</td>\n      <td>1IF53ai7Xc0U56Y</td>\n      <td>0.0</td>\n      <td>0.0</td>\n      <td>0.0</td>\n      <td>6183645.0</td>\n    </tr>\n    <tr>\n      <th>2</th>\n      <td>15-05-2020 00:00</td>\n      <td>4135001</td>\n      <td>3PZuoBAID5Wc2HD</td>\n      <td>0.0</td>\n      <td>0.0</td>\n      <td>0.0</td>\n      <td>6987759.0</td>\n    </tr>\n    <tr>\n      <th>3</th>\n      <td>15-05-2020 00:00</td>\n      <td>4135001</td>\n      <td>7JYdWkrLSPkdwr4</td>\n      <td>0.0</td>\n      <td>0.0</td>\n      <td>0.0</td>\n      <td>7602960.0</td>\n    </tr>\n    <tr>\n      <th>4</th>\n      <td>15-05-2020 00:00</td>\n      <td>4135001</td>\n      <td>McdE0feGgRqW7Ca</td>\n      <td>0.0</td>\n      <td>0.0</td>\n      <td>0.0</td>\n      <td>7158964.0</td>\n    </tr>\n  </tbody>\n</table>\n</div>"
     },
     "execution_count": 4,
     "metadata": {},
     "output_type": "execute_result"
    }
   ],
   "source": [
    "df = pd.read_csv('archive/Plant_1_Generation_Data.csv')\n",
    "df.head()"
   ],
   "metadata": {
    "collapsed": false,
    "pycharm": {
     "name": "#%%\n"
    }
   }
  },
  {
   "cell_type": "markdown",
   "source": [
    "A continuación se hará la lectura del archivo que contiene la información de la planta de generación. En ella encontraremos las siguientes columnas:\n",
    "- **DATE_TIME**: Dato temporal, indica el tiempo en el cual se realizó la medición.\n",
    "- **PLANT_ID**: La identificación de la planta, por ende, en todo el archivo es igual.\n",
    "- **SOURCE_KEY**: ID del inversor.\n",
    "...\n"
   ],
   "metadata": {
    "collapsed": false,
    "pycharm": {
     "name": "#%% md\n"
    }
   }
  },
  {
   "cell_type": "code",
   "execution_count": 5,
   "outputs": [
    {
     "data": {
      "text/plain": "             DATE_TIME  PLANT_ID       SOURCE_KEY  AMBIENT_TEMPERATURE  \\\n0  2020-05-15 00:00:00   4135001  HmiyD2TTLFNqkNe            25.184316   \n1  2020-05-15 00:15:00   4135001  HmiyD2TTLFNqkNe            25.084589   \n2  2020-05-15 00:30:00   4135001  HmiyD2TTLFNqkNe            24.935753   \n3  2020-05-15 00:45:00   4135001  HmiyD2TTLFNqkNe            24.846130   \n4  2020-05-15 01:00:00   4135001  HmiyD2TTLFNqkNe            24.621525   \n\n   MODULE_TEMPERATURE  IRRADIATION  \n0           22.857507          0.0  \n1           22.761668          0.0  \n2           22.592306          0.0  \n3           22.360852          0.0  \n4           22.165423          0.0  ",
      "text/html": "<div>\n<style scoped>\n    .dataframe tbody tr th:only-of-type {\n        vertical-align: middle;\n    }\n\n    .dataframe tbody tr th {\n        vertical-align: top;\n    }\n\n    .dataframe thead th {\n        text-align: right;\n    }\n</style>\n<table border=\"1\" class=\"dataframe\">\n  <thead>\n    <tr style=\"text-align: right;\">\n      <th></th>\n      <th>DATE_TIME</th>\n      <th>PLANT_ID</th>\n      <th>SOURCE_KEY</th>\n      <th>AMBIENT_TEMPERATURE</th>\n      <th>MODULE_TEMPERATURE</th>\n      <th>IRRADIATION</th>\n    </tr>\n  </thead>\n  <tbody>\n    <tr>\n      <th>0</th>\n      <td>2020-05-15 00:00:00</td>\n      <td>4135001</td>\n      <td>HmiyD2TTLFNqkNe</td>\n      <td>25.184316</td>\n      <td>22.857507</td>\n      <td>0.0</td>\n    </tr>\n    <tr>\n      <th>1</th>\n      <td>2020-05-15 00:15:00</td>\n      <td>4135001</td>\n      <td>HmiyD2TTLFNqkNe</td>\n      <td>25.084589</td>\n      <td>22.761668</td>\n      <td>0.0</td>\n    </tr>\n    <tr>\n      <th>2</th>\n      <td>2020-05-15 00:30:00</td>\n      <td>4135001</td>\n      <td>HmiyD2TTLFNqkNe</td>\n      <td>24.935753</td>\n      <td>22.592306</td>\n      <td>0.0</td>\n    </tr>\n    <tr>\n      <th>3</th>\n      <td>2020-05-15 00:45:00</td>\n      <td>4135001</td>\n      <td>HmiyD2TTLFNqkNe</td>\n      <td>24.846130</td>\n      <td>22.360852</td>\n      <td>0.0</td>\n    </tr>\n    <tr>\n      <th>4</th>\n      <td>2020-05-15 01:00:00</td>\n      <td>4135001</td>\n      <td>HmiyD2TTLFNqkNe</td>\n      <td>24.621525</td>\n      <td>22.165423</td>\n      <td>0.0</td>\n    </tr>\n  </tbody>\n</table>\n</div>"
     },
     "execution_count": 5,
     "metadata": {},
     "output_type": "execute_result"
    }
   ],
   "source": [
    "df_w = pd.read_csv('archive/Plant_1_Weather_Sensor_Data.csv')\n",
    "df_w.head()"
   ],
   "metadata": {
    "collapsed": false,
    "pycharm": {
     "name": "#%%\n"
    }
   }
  },
  {
   "cell_type": "code",
   "execution_count": 22,
   "outputs": [],
   "source": [
    "#Transformamos la columna DATE_TIME en ambos dataframe en datos temporales\n",
    "#Notar que ambos tienen un formato temporal distinto\n",
    "df['DATE_TIME'] = pd.to_datetime(df['DATE_TIME'], format='%d-%m-%Y %H:%M')\n",
    "df_w['DATE_TIME'] = pd.to_datetime(df_w['DATE_TIME'], format='%Y%m%d %H:%M:%S')"
   ],
   "metadata": {
    "collapsed": false,
    "pycharm": {
     "name": "#%%\n"
    }
   }
  },
  {
   "cell_type": "markdown",
   "source": [
    "Verificamos que en ambos dataframe no hayan elementos no nulos. Además, chequeamos que la columna DATE_TIME efectivamente sea un dato temporal."
   ],
   "metadata": {
    "collapsed": false,
    "pycharm": {
     "name": "#%% md\n"
    }
   }
  },
  {
   "cell_type": "code",
   "execution_count": 26,
   "outputs": [
    {
     "name": "stdout",
     "output_type": "stream",
     "text": [
      "<class 'pandas.core.frame.DataFrame'>\n",
      "RangeIndex: 68778 entries, 0 to 68777\n",
      "Data columns (total 7 columns):\n",
      " #   Column       Non-Null Count  Dtype         \n",
      "---  ------       --------------  -----         \n",
      " 0   DATE_TIME    68778 non-null  datetime64[ns]\n",
      " 1   PLANT_ID     68778 non-null  int64         \n",
      " 2   SOURCE_KEY   68778 non-null  object        \n",
      " 3   DC_POWER     68778 non-null  float64       \n",
      " 4   AC_POWER     68778 non-null  float64       \n",
      " 5   DAILY_YIELD  68778 non-null  float64       \n",
      " 6   TOTAL_YIELD  68778 non-null  float64       \n",
      "dtypes: datetime64[ns](1), float64(4), int64(1), object(1)\n",
      "memory usage: 3.7+ MB\n"
     ]
    }
   ],
   "source": [
    "df.info()"
   ],
   "metadata": {
    "collapsed": false,
    "pycharm": {
     "name": "#%%\n"
    }
   }
  },
  {
   "cell_type": "code",
   "execution_count": 27,
   "outputs": [
    {
     "name": "stdout",
     "output_type": "stream",
     "text": [
      "<class 'pandas.core.frame.DataFrame'>\n",
      "RangeIndex: 3182 entries, 0 to 3181\n",
      "Data columns (total 6 columns):\n",
      " #   Column               Non-Null Count  Dtype         \n",
      "---  ------               --------------  -----         \n",
      " 0   DATE_TIME            3182 non-null   datetime64[ns]\n",
      " 1   PLANT_ID             3182 non-null   int64         \n",
      " 2   SOURCE_KEY           3182 non-null   object        \n",
      " 3   AMBIENT_TEMPERATURE  3182 non-null   float64       \n",
      " 4   MODULE_TEMPERATURE   3182 non-null   float64       \n",
      " 5   IRRADIATION          3182 non-null   float64       \n",
      "dtypes: datetime64[ns](1), float64(3), int64(1), object(1)\n",
      "memory usage: 149.3+ KB\n"
     ]
    }
   ],
   "source": [
    "df_w.info()"
   ],
   "metadata": {
    "collapsed": false,
    "pycharm": {
     "name": "#%%\n"
    }
   }
  },
  {
   "cell_type": "code",
   "execution_count": null,
   "outputs": [],
   "source": [],
   "metadata": {
    "collapsed": false,
    "pycharm": {
     "name": "#%%\n"
    }
   }
  }
 ],
 "metadata": {
  "kernelspec": {
   "display_name": "Python 3",
   "language": "python",
   "name": "python3"
  },
  "language_info": {
   "codemirror_mode": {
    "name": "ipython",
    "version": 2
   },
   "file_extension": ".py",
   "mimetype": "text/x-python",
   "name": "python",
   "nbconvert_exporter": "python",
   "pygments_lexer": "ipython2",
   "version": "2.7.6"
  }
 },
 "nbformat": 4,
 "nbformat_minor": 0
}